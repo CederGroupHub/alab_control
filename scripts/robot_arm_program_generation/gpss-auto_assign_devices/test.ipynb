{
 "cells": [
  {
   "metadata": {},
   "cell_type": "code",
   "outputs": [],
   "execution_count": null,
   "source": [
    "from alab_control.mt_auto_balance.auto_balance import MTAutoBalance\n",
    "\n",
    "balance = MTAutoBalance(\"http://192.168.1.13:81\")"
   ],
   "id": "78dfa9ca461dd5f3"
  },
  {
   "metadata": {},
   "cell_type": "code",
   "outputs": [],
   "execution_count": null,
   "source": "balance.get_weight()\n",
   "id": "e3379e0c4be5ed30"
  },
  {
   "metadata": {},
   "cell_type": "code",
   "outputs": [],
   "execution_count": null,
   "source": [
    "# success result\n",
    "result = balance.automatic_dosing(0.0, 20, 20)\n",
    "result"
   ],
   "id": "c89442233062006f"
  },
  {
   "metadata": {},
   "cell_type": "code",
   "outputs": [],
   "execution_count": null,
   "source": "result[\"result\"].NetWeight.get_weight_gram()",
   "id": "54bac788ce6afc16"
  },
  {
   "metadata": {},
   "cell_type": "markdown",
   "source": "### Negative gross weight result",
   "id": "464ddb485614717d"
  },
  {
   "metadata": {},
   "cell_type": "code",
   "outputs": [],
   "execution_count": null,
   "source": [
    "result = balance.automatic_dosing(0.0, 20, 20)\n",
    "result"
   ],
   "id": "733b9efa34f5eda8"
  },
  {
   "metadata": {},
   "cell_type": "markdown",
   "source": "## Empty result",
   "id": "8b1c286ecd2fbc9b"
  },
  {
   "metadata": {},
   "cell_type": "code",
   "outputs": [],
   "execution_count": null,
   "source": "result = balance.automatic_dosing(1.0,10, 10)",
   "id": "9ba5b14a781b9353"
  },
  {
   "metadata": {},
   "cell_type": "code",
   "outputs": [],
   "execution_count": null,
   "source": "result",
   "id": "5bf353d3cfa2a855"
  },
  {
   "metadata": {},
   "cell_type": "markdown",
   "source": "## No dosing head result",
   "id": "8699045526fd2fa0"
  },
  {
   "metadata": {},
   "cell_type": "code",
   "outputs": [],
   "execution_count": null,
   "source": [
    "result = balance.automatic_dosing(1.0, 20, 20)\n",
    "result\n"
   ],
   "id": "fd125814b4bdc50"
  },
  {
   "metadata": {},
   "cell_type": "markdown",
   "source": "### Cancel half way result",
   "id": "6de7543880874d5f"
  },
  {
   "metadata": {},
   "cell_type": "code",
   "outputs": [],
   "execution_count": null,
   "source": [
    "result = balance.automatic_dosing(1.0, 20, 20)\n",
    "result\n"
   ],
   "id": "3389d0fcb3d675dd"
  },
  {
   "metadata": {},
   "cell_type": "code",
   "outputs": [],
   "execution_count": null,
   "source": "balance.get_weight()",
   "id": "bd173ab5b1b6938c"
  },
  {
   "metadata": {},
   "cell_type": "code",
   "outputs": [],
   "execution_count": null,
   "source": "",
   "id": "f47a69521bbeeeed"
  },
  {
   "metadata": {},
   "cell_type": "code",
   "outputs": [],
   "execution_count": null,
   "source": "",
   "id": "b513e5c01b19c89"
  }
 ],
 "metadata": {},
 "nbformat": 4,
 "nbformat_minor": 5
}
