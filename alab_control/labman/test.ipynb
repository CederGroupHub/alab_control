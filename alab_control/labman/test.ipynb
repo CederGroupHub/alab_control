{
 "cells": [
  {
   "cell_type": "code",
   "execution_count": 1,
   "metadata": {},
   "outputs": [],
   "source": [
    "from alab_control.labman import Labman, InputFile\n",
    "from alab_control.labman.utils import initialize_labman_database\n",
    "from bson import ObjectId\n",
    "import numpy as np"
   ]
  },
  {
   "cell_type": "code",
   "execution_count": 2,
   "metadata": {},
   "outputs": [],
   "source": [
    "initialize_labman_database(overwrite_existing=True)"
   ]
  },
  {
   "cell_type": "code",
   "execution_count": 3,
   "metadata": {},
   "outputs": [],
   "source": [
    "l = Labman(1, 1)"
   ]
  },
  {
   "cell_type": "code",
   "execution_count": 4,
   "metadata": {},
   "outputs": [],
   "source": [
    "for q, n in zip([1,2,3,4], [15,15,10,12]):\n",
    "    for i in range(n):\n",
    "        try:\n",
    "            l.load_crucible(q,i+1)\n",
    "        except:\n",
    "            continue"
   ]
  },
  {
   "cell_type": "code",
   "execution_count": 5,
   "metadata": {},
   "outputs": [],
   "source": [
    "for q, n in zip([1,2,3,4], [15,16,13,12]):\n",
    "    for i in range(n):\n",
    "        try:\n",
    "            l.load_jar(q,i)\n",
    "        except:\n",
    "            continue"
   ]
  },
  {
   "cell_type": "code",
   "execution_count": 6,
   "metadata": {},
   "outputs": [],
   "source": [
    "powders = [\"TiO2\", \"FePO4\", \"NaCl\", \"PbCl2\", \"MACl\"]\n",
    "for i, p in enumerate(powders):\n",
    "    l.load_powder(i+1, p, np.random.random()*5, unload_first=True)\n",
    "\n",
    "def make_random_inputfile():\n",
    "    n_powders = np.random.randint(2,len(powders))\n",
    "    \n",
    "    dispenses = {\n",
    "        p: np.random.random()*0.5 for p in np.random.choice(powders, n_powders, replace=False)\n",
    "    }\n",
    "    return InputFile(dispenses)\n",
    "\n",
    "inputfiles = [make_random_inputfile() for _ in range(30)]\n",
    "\n",
    "    "
   ]
  },
  {
   "cell_type": "code",
   "execution_count": 8,
   "metadata": {},
   "outputs": [
    {
     "data": {
      "text/plain": [
       "[<InputFile: 4 powders, 1 replicates>,\n",
       " <InputFile: 2 powders, 1 replicates>,\n",
       " <InputFile: 2 powders, 1 replicates>,\n",
       " <InputFile: 2 powders, 1 replicates>,\n",
       " <InputFile: 3 powders, 1 replicates>,\n",
       " <InputFile: 4 powders, 1 replicates>,\n",
       " <InputFile: 3 powders, 1 replicates>,\n",
       " <InputFile: 4 powders, 1 replicates>,\n",
       " <InputFile: 4 powders, 1 replicates>,\n",
       " <InputFile: 4 powders, 1 replicates>,\n",
       " <InputFile: 4 powders, 1 replicates>,\n",
       " <InputFile: 4 powders, 1 replicates>,\n",
       " <InputFile: 2 powders, 1 replicates>,\n",
       " <InputFile: 2 powders, 1 replicates>,\n",
       " <InputFile: 4 powders, 1 replicates>,\n",
       " <InputFile: 3 powders, 1 replicates>,\n",
       " <InputFile: 4 powders, 1 replicates>,\n",
       " <InputFile: 2 powders, 1 replicates>,\n",
       " <InputFile: 4 powders, 1 replicates>,\n",
       " <InputFile: 3 powders, 1 replicates>,\n",
       " <InputFile: 4 powders, 1 replicates>,\n",
       " <InputFile: 4 powders, 1 replicates>,\n",
       " <InputFile: 4 powders, 1 replicates>,\n",
       " <InputFile: 4 powders, 1 replicates>,\n",
       " <InputFile: 2 powders, 1 replicates>,\n",
       " <InputFile: 2 powders, 1 replicates>,\n",
       " <InputFile: 4 powders, 1 replicates>,\n",
       " <InputFile: 3 powders, 1 replicates>,\n",
       " <InputFile: 2 powders, 1 replicates>,\n",
       " <InputFile: 4 powders, 1 replicates>]"
      ]
     },
     "execution_count": 8,
     "metadata": {},
     "output_type": "execute_result"
    }
   ],
   "source": [
    "inputfiles"
   ]
  },
  {
   "cell_type": "code",
   "execution_count": 7,
   "metadata": {},
   "outputs": [
    {
     "data": {
      "text/plain": [
       "{'CrucibleReplicates': 1,\n",
       " 'HeatingDuration': 300,\n",
       " 'EthanolDispenseVolume': 10000,\n",
       " 'MinimumTransferMass': 5,\n",
       " 'MixerDuration': 900,\n",
       " 'MixerSpeed': 2000,\n",
       " 'PowderDispenses': [{'PowderName': 'MACl', 'TargetMass': 0.19082488198876668},\n",
       "  {'PowderName': 'PbCl2', 'TargetMass': 0.11372741675491821},\n",
       "  {'PowderName': 'TiO2', 'TargetMass': 0.3754250839269759},\n",
       "  {'PowderName': 'FePO4', 'TargetMass': 0.3187828329678764}],\n",
       " 'TargetTransferVolume': 10000,\n",
       " '_id': '63be0963f7a92b05518e770a',\n",
       " 'time_added': '2023-01-10T16:57:07.772246'}"
      ]
     },
     "execution_count": 7,
     "metadata": {},
     "output_type": "execute_result"
    }
   ],
   "source": [
    "inputfiles[0].to_json()"
   ]
  },
  {
   "cell_type": "code",
   "execution_count": 8,
   "metadata": {},
   "outputs": [],
   "source": [
    "quadrant, wf = l.build_optimal_workflow(inputfiles)"
   ]
  },
  {
   "cell_type": "code",
   "execution_count": 9,
   "metadata": {},
   "outputs": [
    {
     "data": {
      "text/plain": [
       "<Workflow: 15 jars, 15 crucibles, 5 unique powders>"
      ]
     },
     "execution_count": 9,
     "metadata": {},
     "output_type": "execute_result"
    }
   ],
   "source": [
    "wf"
   ]
  },
  {
   "cell_type": "code",
   "execution_count": null,
   "metadata": {},
   "outputs": [],
   "source": []
  }
 ],
 "metadata": {
  "kernelspec": {
   "display_name": "Python 3.8.13 ('alab')",
   "language": "python",
   "name": "python3"
  },
  "language_info": {
   "codemirror_mode": {
    "name": "ipython",
    "version": 3
   },
   "file_extension": ".py",
   "mimetype": "text/x-python",
   "name": "python",
   "nbconvert_exporter": "python",
   "pygments_lexer": "ipython3",
   "version": "3.8.13"
  },
  "orig_nbformat": 4,
  "vscode": {
   "interpreter": {
    "hash": "72cea66af7e377da7a9524951bdc2a523fda5c71ff240fdded7fed5446e2877e"
   }
  }
 },
 "nbformat": 4,
 "nbformat_minor": 2
}
