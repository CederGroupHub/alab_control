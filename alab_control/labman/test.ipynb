{
 "cells": [
  {
   "cell_type": "code",
   "execution_count": 1,
   "metadata": {},
   "outputs": [],
   "source": [
    "from alab_control.labman import Labman, InputFile, Workflow\n",
    "from alab_control.labman.utils import initialize_labman_database\n",
    "from bson import ObjectId\n",
    "import numpy as np"
   ]
  },
  {
   "cell_type": "code",
   "execution_count": 2,
   "metadata": {},
   "outputs": [],
   "source": [
    "initialize_labman_database(overwrite_existing=True)"
   ]
  },
  {
   "cell_type": "code",
   "execution_count": 3,
   "metadata": {},
   "outputs": [],
   "source": [
    "l = Labman()"
   ]
  },
  {
   "cell_type": "code",
   "execution_count": 4,
   "metadata": {},
   "outputs": [],
   "source": [
    "for q, n in zip([1,2,3,4], [15,15,10,12]):\n",
    "    for i in range(n):\n",
    "        try:\n",
    "            l.load_crucible(q,i+1)\n",
    "        except:\n",
    "            continue"
   ]
  },
  {
   "cell_type": "code",
   "execution_count": 5,
   "metadata": {},
   "outputs": [],
   "source": [
    "for q, n in zip([1,2,3,4], [15,16,13,12]):\n",
    "    for i in range(n):\n",
    "        try:\n",
    "            l.load_jar(q,i)\n",
    "        except:\n",
    "            continue"
   ]
  },
  {
   "cell_type": "code",
   "execution_count": 2,
   "metadata": {},
   "outputs": [],
   "source": [
    "import datetime\n",
    "\n",
    "\n",
    "powders = [\"Silicon Dioxide\", \"Manganese Oxide\", \"Lithium Carbonate\", \"Titanium Oxide\"]\n",
    "# for i, p in enumerate(powders):\n",
    "#     l.load_powder(i+1, p, np.random.random()*5)\n",
    "\n",
    "def make_random_inputfile():\n",
    "    n_powders = np.random.randint(2,len(powders))\n",
    "    \n",
    "    dispenses = {\n",
    "        p: np.random.random()*0.5 for p in np.random.choice(powders, n_powders, replace=False)\n",
    "    }\n",
    "    file = InputFile(dispenses, ethanol_volume_ul=np.random.randint(10, 15))\n",
    "    file.time_added -= datetime.timedelta(minutes=np.random.randint(0, 30))\n",
    "    return file\n",
    "\n",
    "inputfiles = [make_random_inputfile() for _ in range(7)]\n",
    "\n",
    "    "
   ]
  },
  {
   "cell_type": "code",
   "execution_count": 15,
   "metadata": {},
   "outputs": [],
   "source": [
    "import numpy as np\n",
    "from copy import deepcopy\n",
    "\n",
    "wf = Workflow(\"test\")\n",
    "\n",
    "\n",
    "wf.add_input(InputFile(\n",
    "    powder_dispenses={\n",
    "        \"PowderA\": 1.0,\n",
    "    },\n",
    "    ethanol_volume_ul=10000,\n",
    "),\n",
    "sample=\"SampleA\")\n",
    "\n",
    "wf.add_input(InputFile(\n",
    "    powder_dispenses={\n",
    "        \"PowderB\": 1.0,\n",
    "    },\n",
    "    ethanol_volume_ul=11000,\n",
    "),\n",
    "sample=\"SampleB\")\n",
    "\n",
    "wf.add_input(InputFile(\n",
    "    powder_dispenses={\n",
    "        \"PowderC\": 1.0,\n",
    "    },\n",
    "    ethanol_volume_ul=9000,\n",
    "),\n",
    "sample=\"SampleC\")"
   ]
  },
  {
   "cell_type": "code",
   "execution_count": 17,
   "metadata": {},
   "outputs": [
    {
     "data": {
      "text/plain": [
       "[[<InputFile: PowderC, 1 replicates>, [None]],\n",
       " [<InputFile: PowderA, 1 replicates>, [None]],\n",
       " [<InputFile: PowderB, 1 replicates>, [None]]]"
      ]
     },
     "execution_count": 17,
     "metadata": {},
     "output_type": "execute_result"
    }
   ],
   "source": [
    "sorted_inputs = sorted(\n",
    "    wf._Workflow__inputs,\n",
    "    key=lambda x: x[0].heating_duration,\n",
    ")\n",
    "sorted_inputs"
   ]
  },
  {
   "cell_type": "code",
   "execution_count": 5,
   "metadata": {},
   "outputs": [],
   "source": [
    "json = wf.to_json(1, [i+1 for i in range(16)])"
   ]
  },
  {
   "cell_type": "code",
   "execution_count": 14,
   "metadata": {},
   "outputs": [
    {
     "data": {
      "text/plain": [
       "{'CrucibleReplicates': 1,\n",
       " 'HeatingDuration': 7,\n",
       " 'EthanolDispenseVolume': 14,\n",
       " 'MinimumTransferMass': 0.54988,\n",
       " 'MixerDuration': 540,\n",
       " 'MixerSpeed': 2000,\n",
       " 'PowderDispenses': [{'PowderName': 'Lithium Carbonate',\n",
       "   'TargetMass': 0.09733},\n",
       "  {'PowderName': 'Silicon Dioxide', 'TargetMass': 0.29051},\n",
       "  {'PowderName': 'Manganese Oxide', 'TargetMass': 0.24804}],\n",
       " 'TargetTransferVolume': 14,\n",
       " 'Position': 1}"
      ]
     },
     "execution_count": 14,
     "metadata": {},
     "output_type": "execute_result"
    }
   ],
   "source": [
    "json[\"InputFile\"][0]"
   ]
  },
  {
   "cell_type": "code",
   "execution_count": 11,
   "metadata": {},
   "outputs": [],
   "source": [
    "m = list(wf._Workflow__inputfile_to_sample_map.keys())"
   ]
  },
  {
   "cell_type": "code",
   "execution_count": 12,
   "metadata": {},
   "outputs": [
    {
     "data": {
      "text/plain": [
       "[<InputFile: Titanium Oxide + Lithium Carbonate + Manganese Oxide, 2 replicates>,\n",
       " <InputFile: Manganese Oxide + Silicon Dioxide, 1 replicates>,\n",
       " <InputFile: Manganese Oxide + Titanium Oxide, 2 replicates>,\n",
       " <InputFile: Lithium Carbonate + Titanium Oxide + Silicon Dioxide, 2 replicates>,\n",
       " <InputFile: Titanium Oxide + Silicon Dioxide + Lithium Carbonate, 1 replicates>,\n",
       " <InputFile: Manganese Oxide + Silicon Dioxide, 1 replicates>,\n",
       " <InputFile: Manganese Oxide + Lithium Carbonate, 2 replicates>]"
      ]
     },
     "execution_count": 12,
     "metadata": {},
     "output_type": "execute_result"
    }
   ],
   "source": [
    "wf.inputfiles"
   ]
  },
  {
   "cell_type": "code",
   "execution_count": 15,
   "metadata": {},
   "outputs": [
    {
     "data": {
      "text/plain": [
       "[(0,\n",
       "  <InputFile: Titanium Oxide + Lithium Carbonate + Manganese Oxide, 2 replicates>),\n",
       " (1, <InputFile: Manganese Oxide + Silicon Dioxide, 1 replicates>),\n",
       " (2, <InputFile: Manganese Oxide + Titanium Oxide, 2 replicates>),\n",
       " (3,\n",
       "  <InputFile: Lithium Carbonate + Titanium Oxide + Silicon Dioxide, 2 replicates>),\n",
       " (4,\n",
       "  <InputFile: Titanium Oxide + Silicon Dioxide + Lithium Carbonate, 1 replicates>),\n",
       " (5, <InputFile: Manganese Oxide + Silicon Dioxide, 1 replicates>),\n",
       " (6, <InputFile: Manganese Oxide + Lithium Carbonate, 2 replicates>)]"
      ]
     },
     "execution_count": 15,
     "metadata": {},
     "output_type": "execute_result"
    }
   ],
   "source": [
    "sortme = [(idx, inputfile) for idx, inputfile in enumerate(wf.inputfiles)]\n",
    "sortme"
   ]
  },
  {
   "cell_type": "code",
   "execution_count": 17,
   "metadata": {},
   "outputs": [
    {
     "data": {
      "text/plain": [
       "[(3,\n",
       "  <InputFile: Lithium Carbonate + Titanium Oxide + Silicon Dioxide, 2 replicates>),\n",
       " (4,\n",
       "  <InputFile: Titanium Oxide + Silicon Dioxide + Lithium Carbonate, 1 replicates>),\n",
       " (5, <InputFile: Manganese Oxide + Silicon Dioxide, 1 replicates>),\n",
       " (6, <InputFile: Manganese Oxide + Lithium Carbonate, 2 replicates>),\n",
       " (2, <InputFile: Manganese Oxide + Titanium Oxide, 2 replicates>),\n",
       " (0,\n",
       "  <InputFile: Titanium Oxide + Lithium Carbonate + Manganese Oxide, 2 replicates>),\n",
       " (1, <InputFile: Manganese Oxide + Silicon Dioxide, 1 replicates>)]"
      ]
     },
     "execution_count": 17,
     "metadata": {},
     "output_type": "execute_result"
    }
   ],
   "source": [
    "sorted(sortme, key=lambda x: x[1].ethanol_volume)"
   ]
  },
  {
   "cell_type": "code",
   "execution_count": 13,
   "metadata": {},
   "outputs": [
    {
     "data": {
      "text/plain": [
       "[<InputFile: Lithium Carbonate + Titanium Oxide + Silicon Dioxide, 2 replicates>,\n",
       " <InputFile: Titanium Oxide + Silicon Dioxide + Lithium Carbonate, 1 replicates>,\n",
       " <InputFile: Manganese Oxide + Silicon Dioxide, 1 replicates>,\n",
       " <InputFile: Manganese Oxide + Lithium Carbonate, 2 replicates>,\n",
       " <InputFile: Manganese Oxide + Titanium Oxide, 2 replicates>,\n",
       " <InputFile: Titanium Oxide + Lithium Carbonate + Manganese Oxide, 2 replicates>,\n",
       " <InputFile: Manganese Oxide + Silicon Dioxide, 1 replicates>]"
      ]
     },
     "execution_count": 13,
     "metadata": {},
     "output_type": "execute_result"
    }
   ],
   "source": [
    "sorted(wf.inputfiles, key=lambda inputfile: inputfile.ethanol_volume)"
   ]
  },
  {
   "cell_type": "code",
   "execution_count": 13,
   "metadata": {},
   "outputs": [
    {
     "data": {
      "text/plain": [
       "[<InputFile: Titanium Oxide + Lithium Carbonate + Manganese Oxide, 1 replicates>,\n",
       " <InputFile: Titanium Oxide + Silicon Dioxide + Manganese Oxide, 1 replicates>,\n",
       " <InputFile: Manganese Oxide + Titanium Oxide, 1 replicates>,\n",
       " <InputFile: Manganese Oxide + Titanium Oxide + Silicon Dioxide, 1 replicates>,\n",
       " <InputFile: Titanium Oxide + Manganese Oxide + Lithium Carbonate, 1 replicates>,\n",
       " <InputFile: Titanium Oxide + Silicon Dioxide, 1 replicates>,\n",
       " <InputFile: Lithium Carbonate + Titanium Oxide, 1 replicates>]"
      ]
     },
     "execution_count": 13,
     "metadata": {},
     "output_type": "execute_result"
    }
   ],
   "source": [
    "wf.inputfiles"
   ]
  },
  {
   "cell_type": "code",
   "execution_count": 7,
   "metadata": {},
   "outputs": [],
   "source": [
    "quadrant, wf = l.build_optimal_workflow(inputfiles)"
   ]
  },
  {
   "cell_type": "code",
   "execution_count": 8,
   "metadata": {},
   "outputs": [
    {
     "data": {
      "text/plain": [
       "<Workflow: 9 jars, 9 crucibles, 4 unique powders>"
      ]
     },
     "execution_count": 8,
     "metadata": {},
     "output_type": "execute_result"
    }
   ],
   "source": [
    "wf"
   ]
  },
  {
   "cell_type": "code",
   "execution_count": 9,
   "metadata": {},
   "outputs": [
    {
     "data": {
      "text/plain": [
       "True"
      ]
     },
     "execution_count": 9,
     "metadata": {},
     "output_type": "execute_result"
    }
   ],
   "source": [
    "l.workflow_is_valid(wf.to_json(quadrant, l.quadrants[quadrant].available_jars))"
   ]
  },
  {
   "cell_type": "code",
   "execution_count": 10,
   "metadata": {},
   "outputs": [
    {
     "data": {
      "text/plain": [
       "'2023-01-30, 2 32 PM, 9 inputfiles'"
      ]
     },
     "execution_count": 10,
     "metadata": {},
     "output_type": "execute_result"
    }
   ],
   "source": [
    "wf.name"
   ]
  },
  {
   "cell_type": "code",
   "execution_count": 11,
   "metadata": {},
   "outputs": [],
   "source": [
    "l.submit_workflow(quadrant, wf)"
   ]
  },
  {
   "cell_type": "code",
   "execution_count": 12,
   "metadata": {},
   "outputs": [
    {
     "ename": "LabmanError",
     "evalue": "Failed to process pots unloaded message. Cannot have unloaded pots in quadrant 3. The workflow is not complete.",
     "output_type": "error",
     "traceback": [
      "\u001b[0;31m---------------------------------------------------------------------------\u001b[0m",
      "\u001b[0;31mLabmanError\u001b[0m                               Traceback (most recent call last)",
      "\u001b[1;32m/Users/REKumar/GitHub/alab_control/alab_control/labman/test.ipynb Cell 12\u001b[0m in \u001b[0;36m<cell line: 1>\u001b[0;34m()\u001b[0m\n\u001b[0;32m----> <a href='vscode-notebook-cell:/Users/REKumar/GitHub/alab_control/alab_control/labman/test.ipynb#X21sZmlsZQ%3D%3D?line=0'>1</a>\u001b[0m l\u001b[39m.\u001b[39;49mAPI\u001b[39m.\u001b[39;49mpots_unloaded(\u001b[39m3\u001b[39;49m)\n",
      "File \u001b[0;32m~/GitHub/alab_control/alab_control/labman/api/api.py:111\u001b[0m, in \u001b[0;36mLabmanAPI.pots_unloaded\u001b[0;34m(self, index)\u001b[0m\n\u001b[1;32m    107\u001b[0m     \u001b[39mraise\u001b[39;00m \u001b[39mValueError\u001b[39;00m(\n\u001b[1;32m    108\u001b[0m         \u001b[39mf\u001b[39m\u001b[39m\"\u001b[39m\u001b[39mYou tried to unload invalid quadrant index \u001b[39m\u001b[39m{\u001b[39;00mindex\u001b[39m}\u001b[39;00m\u001b[39m. Valid values are: \u001b[39m\u001b[39m{\u001b[39;00mVALID_QUADRANTS\u001b[39m}\u001b[39;00m\u001b[39m\"\u001b[39m\n\u001b[1;32m    109\u001b[0m     )\n\u001b[1;32m    110\u001b[0m url \u001b[39m=\u001b[39m \u001b[39mf\u001b[39m\u001b[39m\"\u001b[39m\u001b[39m{\u001b[39;00m\u001b[39mself\u001b[39m\u001b[39m.\u001b[39mAPI_BASE\u001b[39m}\u001b[39;00m\u001b[39m/PotsUnloaded?quadrant=\u001b[39m\u001b[39m{\u001b[39;00mindex\u001b[39m}\u001b[39;00m\u001b[39m\"\u001b[39m\n\u001b[0;32m--> 111\u001b[0m \u001b[39mreturn\u001b[39;00m \u001b[39mself\u001b[39;49m\u001b[39m.\u001b[39;49m_post(url)\n",
      "File \u001b[0;32m~/GitHub/alab_control/alab_control/labman/api/api.py:31\u001b[0m, in \u001b[0;36mLabmanAPI._post\u001b[0;34m(self, url, **kwargs)\u001b[0m\n\u001b[1;32m     28\u001b[0m mixed_kwargs\u001b[39m.\u001b[39mupdate(kwargs)\n\u001b[1;32m     30\u001b[0m response \u001b[39m=\u001b[39m requests\u001b[39m.\u001b[39mpost(url\u001b[39m=\u001b[39murl, \u001b[39m*\u001b[39m\u001b[39m*\u001b[39mmixed_kwargs)\n\u001b[0;32m---> 31\u001b[0m \u001b[39mreturn\u001b[39;00m \u001b[39mself\u001b[39;49m\u001b[39m.\u001b[39;49m_process_labman_response(response)\n",
      "File \u001b[0;32m~/GitHub/alab_control/alab_control/labman/api/api.py:52\u001b[0m, in \u001b[0;36mLabmanAPI._process_labman_response\u001b[0;34m(self, response)\u001b[0m\n\u001b[1;32m     50\u001b[0m     \u001b[39mreturn\u001b[39;00m response\u001b[39m.\u001b[39mget(\u001b[39m\"\u001b[39m\u001b[39mData\u001b[39m\u001b[39m\"\u001b[39m, {})\n\u001b[1;32m     51\u001b[0m \u001b[39melse\u001b[39;00m:\n\u001b[0;32m---> 52\u001b[0m     \u001b[39mraise\u001b[39;00m LabmanError(response[\u001b[39m\"\u001b[39m\u001b[39mErrorMessage\u001b[39m\u001b[39m\"\u001b[39m])\n",
      "\u001b[0;31mLabmanError\u001b[0m: Failed to process pots unloaded message. Cannot have unloaded pots in quadrant 3. The workflow is not complete."
     ]
    }
   ],
   "source": [
    "l.API.pots_unloaded(3)"
   ]
  },
  {
   "cell_type": "code",
   "execution_count": 38,
   "metadata": {},
   "outputs": [],
   "source": [
    "l.take_quadrant(1)"
   ]
  },
  {
   "cell_type": "code",
   "execution_count": 27,
   "metadata": {},
   "outputs": [],
   "source": [
    "l.release_quadrant()"
   ]
  },
  {
   "cell_type": "code",
   "execution_count": 14,
   "metadata": {},
   "outputs": [
    {
     "data": {
      "text/plain": [
       "{'CurrentOutwardQuadrantNumber': 1,\n",
       " 'HeatedRackTemperature': 70,\n",
       " 'InAutomatedMode': True,\n",
       " 'IndexingRackStatus': 'UserControl',\n",
       " 'PipetteTipCount': 44,\n",
       " 'ProcessErrorMessage': '',\n",
       " 'QuadrantStatuses': [{'LoadedWorkflowName': None,\n",
       "   'Progress': 'Empty',\n",
       "   'QuadrantNumber': 1},\n",
       "  {'LoadedWorkflowName': None, 'Progress': 'Empty', 'QuadrantNumber': 2},\n",
       "  {'LoadedWorkflowName': None, 'Progress': 'Empty', 'QuadrantNumber': 3},\n",
       "  {'LoadedWorkflowName': None, 'Progress': 'Empty', 'QuadrantNumber': 4}],\n",
       " 'RobotRunning': False,\n",
       " 'UnavailablePowders': []}"
      ]
     },
     "execution_count": 14,
     "metadata": {},
     "output_type": "execute_result"
    }
   ],
   "source": [
    "l.API.get_status()"
   ]
  },
  {
   "cell_type": "code",
   "execution_count": 33,
   "metadata": {},
   "outputs": [
    {
     "ename": "LabmanError",
     "evalue": "Failed to release indexing rack control. The indexer is in the state 'UserRequesting'.",
     "output_type": "error",
     "traceback": [
      "\u001b[0;31m---------------------------------------------------------------------------\u001b[0m",
      "\u001b[0;31mLabmanError\u001b[0m                               Traceback (most recent call last)",
      "\u001b[1;32m/Users/REKumar/GitHub/alab_control/alab_control/labman/test.ipynb Cell 15\u001b[0m in \u001b[0;36m<cell line: 1>\u001b[0;34m()\u001b[0m\n\u001b[0;32m----> <a href='vscode-notebook-cell:/Users/REKumar/GitHub/alab_control/alab_control/labman/test.ipynb#X25sZmlsZQ%3D%3D?line=0'>1</a>\u001b[0m l\u001b[39m.\u001b[39;49mrelease_quadrant()\n",
      "File \u001b[0;32m~/GitHub/alab_control/alab_control/labman/labman.py:362\u001b[0m, in \u001b[0;36mLabman.release_quadrant\u001b[0;34m(self)\u001b[0m\n\u001b[1;32m    357\u001b[0m \u001b[39mdef\u001b[39;00m \u001b[39mrelease_quadrant\u001b[39m(\u001b[39mself\u001b[39m):\n\u001b[1;32m    358\u001b[0m     \u001b[39mself\u001b[39m\u001b[39m.\u001b[39mlogging\u001b[39m.\u001b[39mdebug(\n\u001b[1;32m    359\u001b[0m         category\u001b[39m=\u001b[39m\u001b[39m\"\u001b[39m\u001b[39mlabman-quadrant-release-request\u001b[39m\u001b[39m\"\u001b[39m,\n\u001b[1;32m    360\u001b[0m         message\u001b[39m=\u001b[39m\u001b[39mf\u001b[39m\u001b[39m\"\u001b[39m\u001b[39mRequested release of the indexing rack control back to Labman.\u001b[39m\u001b[39m\"\u001b[39m,\n\u001b[1;32m    361\u001b[0m     )\n\u001b[0;32m--> 362\u001b[0m     \u001b[39mself\u001b[39;49m\u001b[39m.\u001b[39;49mAPI\u001b[39m.\u001b[39;49mrelease_indexing_rack_control()\n\u001b[1;32m    364\u001b[0m     \u001b[39m# wait for labman to take back control of the rack\u001b[39;00m\n\u001b[1;32m    365\u001b[0m     \u001b[39mwhile\u001b[39;00m \u001b[39mnot\u001b[39;00m \u001b[39mself\u001b[39m\u001b[39m.\u001b[39mrack_under_robot_control:\n",
      "File \u001b[0;32m~/GitHub/alab_control/alab_control/labman/api/api.py:99\u001b[0m, in \u001b[0;36mLabmanAPI.release_indexing_rack_control\u001b[0;34m(self)\u001b[0m\n\u001b[1;32m     97\u001b[0m \u001b[39mdef\u001b[39;00m \u001b[39mrelease_indexing_rack_control\u001b[39m(\u001b[39mself\u001b[39m):\n\u001b[1;32m     98\u001b[0m     url \u001b[39m=\u001b[39m \u001b[39mf\u001b[39m\u001b[39m\"\u001b[39m\u001b[39m{\u001b[39;00m\u001b[39mself\u001b[39m\u001b[39m.\u001b[39mAPI_BASE\u001b[39m}\u001b[39;00m\u001b[39m/ReleaseIndexingRackControl\u001b[39m\u001b[39m\"\u001b[39m\n\u001b[0;32m---> 99\u001b[0m     \u001b[39mreturn\u001b[39;00m \u001b[39mself\u001b[39;49m\u001b[39m.\u001b[39;49m_post(url)\n",
      "File \u001b[0;32m~/GitHub/alab_control/alab_control/labman/api/api.py:31\u001b[0m, in \u001b[0;36mLabmanAPI._post\u001b[0;34m(self, url, **kwargs)\u001b[0m\n\u001b[1;32m     28\u001b[0m mixed_kwargs\u001b[39m.\u001b[39mupdate(kwargs)\n\u001b[1;32m     30\u001b[0m response \u001b[39m=\u001b[39m requests\u001b[39m.\u001b[39mpost(url\u001b[39m=\u001b[39murl, \u001b[39m*\u001b[39m\u001b[39m*\u001b[39mmixed_kwargs)\n\u001b[0;32m---> 31\u001b[0m \u001b[39mreturn\u001b[39;00m \u001b[39mself\u001b[39;49m\u001b[39m.\u001b[39;49m_process_labman_response(response)\n",
      "File \u001b[0;32m~/GitHub/alab_control/alab_control/labman/api/api.py:52\u001b[0m, in \u001b[0;36mLabmanAPI._process_labman_response\u001b[0;34m(self, response)\u001b[0m\n\u001b[1;32m     50\u001b[0m     \u001b[39mreturn\u001b[39;00m response\u001b[39m.\u001b[39mget(\u001b[39m\"\u001b[39m\u001b[39mData\u001b[39m\u001b[39m\"\u001b[39m, {})\n\u001b[1;32m     51\u001b[0m \u001b[39melse\u001b[39;00m:\n\u001b[0;32m---> 52\u001b[0m     \u001b[39mraise\u001b[39;00m LabmanError(response[\u001b[39m\"\u001b[39m\u001b[39mErrorMessage\u001b[39m\u001b[39m\"\u001b[39m])\n",
      "\u001b[0;31mLabmanError\u001b[0m: Failed to release indexing rack control. The indexer is in the state 'UserRequesting'."
     ]
    }
   ],
   "source": [
    "l.release_quadrant()"
   ]
  },
  {
   "cell_type": "code",
   "execution_count": 17,
   "metadata": {},
   "outputs": [
    {
     "data": {
      "text/plain": [
       "{'IndexingRackQuadrant': None,\n",
       " 'Results': {'Rows': [{'ActualHeatDuration': 229,\n",
       "    'ActualTransferMass': 5.0911,\n",
       "    'CruciblePosition': 1,\n",
       "    'CrucibleSubRack': 'SubRackA',\n",
       "    'DACDuration': 60,\n",
       "    'DACSpeed': 2000,\n",
       "    'EndReason': 'Completed',\n",
       "    'EthanolDispenseVolume': 8000,\n",
       "    'MixingPotPosition': 1,\n",
       "    'Powders': [{'PowderName': 'Lithium Carbonate',\n",
       "      'TargetMass': 1.5,\n",
       "      'Doses': []}],\n",
       "    'TargetTransferVolume': 6000,\n",
       "    'TransferTime': '2023-01-25T23:09:13.0000000'}],\n",
       "  'WorkflowName': 'Test'}}"
      ]
     },
     "execution_count": 17,
     "metadata": {},
     "output_type": "execute_result"
    }
   ],
   "source": [
    "l.API.get_results(workflow_name=\"Test\")"
   ]
  },
  {
   "cell_type": "code",
   "execution_count": null,
   "metadata": {},
   "outputs": [],
   "source": []
  }
 ],
 "metadata": {
  "kernelspec": {
   "display_name": "Python 3.8.13 ('alab')",
   "language": "python",
   "name": "python3"
  },
  "language_info": {
   "codemirror_mode": {
    "name": "ipython",
    "version": 3
   },
   "file_extension": ".py",
   "mimetype": "text/x-python",
   "name": "python",
   "nbconvert_exporter": "python",
   "pygments_lexer": "ipython3",
   "version": "3.8.13"
  },
  "orig_nbformat": 4,
  "vscode": {
   "interpreter": {
    "hash": "72cea66af7e377da7a9524951bdc2a523fda5c71ff240fdded7fed5446e2877e"
   }
  }
 },
 "nbformat": 4,
 "nbformat_minor": 2
}
