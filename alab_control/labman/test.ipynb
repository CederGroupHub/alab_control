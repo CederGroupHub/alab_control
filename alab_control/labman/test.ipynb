{
 "cells": [
  {
   "cell_type": "code",
   "execution_count": 1,
   "metadata": {},
   "outputs": [],
   "source": [
    "from labman import Labman, InputFile, initialize_labman_database\n",
    "from bson import ObjectId\n",
    "import numpy as np"
   ]
  },
  {
   "cell_type": "code",
   "execution_count": 10,
   "metadata": {},
   "outputs": [],
   "source": [
    "initialize_labman_database(overwrite_existing=True)"
   ]
  },
  {
   "cell_type": "code",
   "execution_count": 11,
   "metadata": {},
   "outputs": [],
   "source": [
    "l = Labman()"
   ]
  },
  {
   "cell_type": "code",
   "execution_count": 12,
   "metadata": {},
   "outputs": [],
   "source": [
    "for q, n in zip([1,2,3,4], [15,15,10,12]):\n",
    "    for i in range(n):\n",
    "        try:\n",
    "            l.load_crucible(q,i+1)\n",
    "        except:\n",
    "            continue"
   ]
  },
  {
   "cell_type": "code",
   "execution_count": 13,
   "metadata": {},
   "outputs": [],
   "source": [
    "for q, n in zip([1,2,3,4], [15,16,13,12]):\n",
    "    for i in range(n):\n",
    "        try:\n",
    "            l.load_jar(q,i)\n",
    "        except:\n",
    "            continue"
   ]
  },
  {
   "cell_type": "code",
   "execution_count": 19,
   "metadata": {},
   "outputs": [],
   "source": [
    "powders = [\"TiO2\", \"FePO4\", \"NaCl\", \"PbCl2\", \"MACl\"]\n",
    "for i, p in enumerate(powders):\n",
    "    l.load_powder(i+1, p, np.random.random()*5, unload_first=True)\n",
    "\n",
    "def make_random_inputfile():\n",
    "    n_powders = np.random.randint(2,len(powders))\n",
    "    \n",
    "    dispenses = {\n",
    "        p: np.random.random()*0.5 for p in np.random.choice(powders, n_powders, replace=False)\n",
    "    }\n",
    "    return InputFile(dispenses)\n",
    "\n",
    "inputfiles = [make_random_inputfile() for _ in range(30)]\n",
    "\n",
    "    "
   ]
  },
  {
   "cell_type": "code",
   "execution_count": 20,
   "metadata": {},
   "outputs": [],
   "source": [
    "from optimize_workflow import BatchOptimizer"
   ]
  },
  {
   "cell_type": "code",
   "execution_count": 21,
   "metadata": {},
   "outputs": [],
   "source": [
    "bo = BatchOptimizer(\n",
    "    l.available_powders, \n",
    "    list(l.available_crucibles.values()), \n",
    "    list(l.available_jars.values()), \n",
    "    inputfiles)"
   ]
  },
  {
   "cell_type": "code",
   "execution_count": 22,
   "metadata": {},
   "outputs": [
    {
     "name": "stdout",
     "output_type": "stream",
     "text": [
      "Optimal solution found for quadrant 1\n",
      "Number of inputfiles loaded: 14\n",
      "Crucible utilization: 0.9333333333333333\n",
      "Jar utilization: 1.0\n",
      "Number of powders used: 5\n",
      "Powder utilization: {'TiO2': 0.5337896438864307, 'FePO4': 0.7375266869335104, 'NaCl': 0.5144455292000398, 'PbCl2': 0.30148250788100633, 'MACl': 0.1945775988493968}\n",
      "================\n",
      "Optimal solution found for quadrant 2\n",
      "Number of inputfiles loaded: 15\n",
      "Crucible utilization: 1.0\n",
      "Jar utilization: 1.0\n",
      "Number of powders used: 5\n",
      "Powder utilization: {'TiO2': 0.803953661538805, 'FePO4': 0.7375266869335104, 'NaCl': 0.5359029919973197, 'PbCl2': 0.4012865974453445, 'MACl': 0.1945775988493968}\n",
      "================\n",
      "Optimal solution found for quadrant 3\n",
      "Number of inputfiles loaded: 10\n",
      "Crucible utilization: 1.0\n",
      "Jar utilization: 0.8333333333333334\n",
      "Number of powders used: 5\n",
      "Powder utilization: {'TiO2': 0.9277048359717049, 'FePO4': 0.9789756041670277, 'NaCl': 0.5050844130041663, 'PbCl2': 0.1568891903343247, 'MACl': 0.2960094263546977}\n",
      "================\n",
      "Optimal solution found for quadrant 4\n",
      "Number of inputfiles loaded: 11\n",
      "Crucible utilization: 0.9166666666666666\n",
      "Jar utilization: 1.0\n",
      "Number of powders used: 5\n",
      "Powder utilization: {'TiO2': 0.37411484744116646, 'FePO4': 0.9427008056116911, 'NaCl': 0.3370520495865956, 'PbCl2': 0.21356520682987584, 'MACl': 0.05341580454879864}\n"
     ]
    }
   ],
   "source": [
    "best_quadrant, best_inputfiles = bo.solve(verbose=True)"
   ]
  },
  {
   "cell_type": "code",
   "execution_count": 23,
   "metadata": {},
   "outputs": [
    {
     "data": {
      "text/plain": [
       "2"
      ]
     },
     "execution_count": 23,
     "metadata": {},
     "output_type": "execute_result"
    }
   ],
   "source": [
    "best_quadrant"
   ]
  }
 ],
 "metadata": {
  "kernelspec": {
   "display_name": "Python 3.8.13 ('alab')",
   "language": "python",
   "name": "python3"
  },
  "language_info": {
   "codemirror_mode": {
    "name": "ipython",
    "version": 3
   },
   "file_extension": ".py",
   "mimetype": "text/x-python",
   "name": "python",
   "nbconvert_exporter": "python",
   "pygments_lexer": "ipython3",
   "version": "3.8.13"
  },
  "orig_nbformat": 4,
  "vscode": {
   "interpreter": {
    "hash": "72cea66af7e377da7a9524951bdc2a523fda5c71ff240fdded7fed5446e2877e"
   }
  }
 },
 "nbformat": 4,
 "nbformat_minor": 2
}
