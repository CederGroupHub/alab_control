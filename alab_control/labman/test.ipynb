{
 "cells": [
  {
   "cell_type": "code",
   "execution_count": 12,
   "metadata": {},
   "outputs": [],
   "source": [
    "from alab_control.labman import Labman, InputFile\n",
    "from alab_control.labman.utils import initialize_labman_database\n",
    "from bson import ObjectId\n",
    "import numpy as np"
   ]
  },
  {
   "cell_type": "code",
   "execution_count": 18,
   "metadata": {},
   "outputs": [],
   "source": [
    "initialize_labman_database(overwrite_existing=True)"
   ]
  },
  {
   "cell_type": "code",
   "execution_count": 19,
   "metadata": {},
   "outputs": [],
   "source": [
    "l = Labman(1, 1)"
   ]
  },
  {
   "cell_type": "code",
   "execution_count": 20,
   "metadata": {},
   "outputs": [],
   "source": [
    "for q, n in zip([1,2,3,4], [15,15,10,12]):\n",
    "    for i in range(n):\n",
    "        try:\n",
    "            l.load_crucible(q,i+1)\n",
    "        except:\n",
    "            continue"
   ]
  },
  {
   "cell_type": "code",
   "execution_count": 21,
   "metadata": {},
   "outputs": [],
   "source": [
    "for q, n in zip([1,2,3,4], [15,16,13,12]):\n",
    "    for i in range(n):\n",
    "        try:\n",
    "            l.load_jar(q,i)\n",
    "        except:\n",
    "            continue"
   ]
  },
  {
   "cell_type": "code",
   "execution_count": 22,
   "metadata": {},
   "outputs": [],
   "source": [
    "import datetime\n",
    "\n",
    "\n",
    "powders = [\"TiO2\", \"FePO4\", \"NaCl\", \"PbCl2\", \"MACl\"]\n",
    "for i, p in enumerate(powders):\n",
    "    l.load_powder(i+1, p, np.random.random()*5)\n",
    "\n",
    "def make_random_inputfile():\n",
    "    n_powders = np.random.randint(2,len(powders))\n",
    "    \n",
    "    dispenses = {\n",
    "        p: np.random.random()*0.5 for p in np.random.choice(powders, n_powders, replace=False)\n",
    "    }\n",
    "    file = InputFile(dispenses)\n",
    "    file.time_added -= datetime.timedelta(minutes=np.random.randint(0, 30))\n",
    "    return file\n",
    "\n",
    "inputfiles = [make_random_inputfile() for _ in range(30)]\n",
    "\n",
    "    "
   ]
  },
  {
   "cell_type": "code",
   "execution_count": 35,
   "metadata": {},
   "outputs": [],
   "source": [
    "quadrant, wf = l.build_optimal_workflow(inputfiles)"
   ]
  },
  {
   "cell_type": "code",
   "execution_count": 53,
   "metadata": {},
   "outputs": [
    {
     "data": {
      "text/plain": [
       "150000"
      ]
     },
     "execution_count": 53,
     "metadata": {},
     "output_type": "execute_result"
    }
   ],
   "source": [
    "wf.required_ethanol_volume"
   ]
  },
  {
   "cell_type": "code",
   "execution_count": null,
   "metadata": {},
   "outputs": [],
   "source": []
  }
 ],
 "metadata": {
  "kernelspec": {
   "display_name": "Python 3.8.13 ('alab')",
   "language": "python",
   "name": "python3"
  },
  "language_info": {
   "codemirror_mode": {
    "name": "ipython",
    "version": 3
   },
   "file_extension": ".py",
   "mimetype": "text/x-python",
   "name": "python",
   "nbconvert_exporter": "python",
   "pygments_lexer": "ipython3",
   "version": "3.8.13"
  },
  "orig_nbformat": 4,
  "vscode": {
   "interpreter": {
    "hash": "72cea66af7e377da7a9524951bdc2a523fda5c71ff240fdded7fed5446e2877e"
   }
  }
 },
 "nbformat": 4,
 "nbformat_minor": 2
}
