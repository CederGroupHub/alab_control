{
 "cells": [
  {
   "cell_type": "code",
   "execution_count": 8,
   "metadata": {},
   "outputs": [],
   "source": [
    "import time\n",
    "from enum import Enum\n",
    "import socket\n",
    "import re\n",
    "\n",
    "from alab_control._base_arduino_device import BaseArduinoDevice\n",
    "\n",
    "\n",
    "class VacuumControllerState(Enum):\n",
    "    RUNNING = \"RUNNING\"\n",
    "    STOP = \"STOP\"\n",
    "    ERROR = \"ERROR\"\n",
    "\n",
    "class VacuumController(BaseArduinoDevice):\n",
    "    def __init__(self, ip_address: str, port: int = 8888):\n",
    "        super().__init__(ip_address, port)\n",
    "        self.is_on = False\n",
    "\n",
    "    def send_request(self,data,max_retries=10) -> str:\n",
    "        with socket.socket(socket.AF_INET, socket.SOCK_STREAM,) as clientSocket:\n",
    "            clientSocket.settimeout(10)\n",
    "            try:\n",
    "                clientSocket.connect((self.ip_address,self.port))\n",
    "            except:\n",
    "                # print( \"re-connecting\" )  \n",
    "                connected=False\n",
    "                retry=0\n",
    "                while not connected and retry <= max_retries:\n",
    "                    try:\n",
    "                        retry+=1\n",
    "                        clientSocket.connect((self.ip_address,self.port))\n",
    "                        connected = True\n",
    "                        # print( \"re-connection successful\" )  \n",
    "                    except socket.error:  \n",
    "                        time.sleep(1)\n",
    "            # Send data to server\n",
    "            clientSocket.send(data.encode());\n",
    "            # Receive data from server\n",
    "            dataFromServer = clientSocket.recv(1024);\n",
    "            # print(dataFromServer)\n",
    "            # Print to the console\n",
    "            decodedData=dataFromServer.decode()\n",
    "        return decodedData\n",
    "\n",
    "    def get_state(self) -> VacuumControllerState:\n",
    "        \"\"\"\n",
    "        Get the current state of the door controller\n",
    "        whether it is running or not. Also updates self.is_open[name] for each name\n",
    "        \"\"\"\n",
    "        try:\n",
    "            reply=self.send_request(\"Status\\n\")\n",
    "            state = reply.split(\";\")[0].split(\"State: \")[1]\n",
    "\n",
    "            vacuum_state = re.findall(f\"Vacuum: (\\w*)\", reply)\n",
    "            if len(vacuum_state) == 0:\n",
    "                raise ValueError(\"Could not find state for the vacuum\")\n",
    "            self.is_on = vacuum_state[0] == \"On\"\n",
    "        except:\n",
    "            state=\"ERROR\"\n",
    "        return VacuumControllerState[state]\n",
    "\n",
    "    def on(self):\n",
    "        \"\"\"\n",
    "        Turn on vacuum\n",
    "        \"\"\"\n",
    "        if self.get_state() == VacuumControllerState.ERROR:\n",
    "            raise RuntimeError(\"Vacuum Controller is in error state\")\n",
    "        self.send_request(\"Turn_On_Vacuum\\n\")\n",
    "        time.sleep(1)\n",
    "        while self.get_state() == VacuumControllerState.RUNNING and self.get_state() != VacuumControllerState.ERROR:\n",
    "            time.sleep(1)\n",
    "        if self.get_state() == VacuumControllerState.ERROR:\n",
    "            raise RuntimeError(\"Vacuum Controller is in error state\")\n",
    "\n",
    "    def off(self):\n",
    "        \"\"\"\n",
    "        Turn on vacuum\n",
    "        \"\"\"\n",
    "        if self.get_state() == VacuumControllerState.ERROR:\n",
    "            raise RuntimeError(\"Vacuum Controller is in error state\")\n",
    "        self.send_request(\"Turn_Off_Vacuum\\n\")\n",
    "        time.sleep(1)\n",
    "        while self.get_state() == VacuumControllerState.RUNNING and self.get_state() != VacuumControllerState.ERROR:\n",
    "            time.sleep(1)\n",
    "        if self.get_state() == VacuumControllerState.ERROR:\n",
    "            raise RuntimeError(\"Vacuum Controller is in error state\")\n",
    "\n",
    "    def reset_printer(self):\n",
    "        \"\"\"\n",
    "        Reset the 3D printer\n",
    "        \"\"\"\n",
    "        if self.get_state() == VacuumControllerState.ERROR:\n",
    "            raise RuntimeError(\"Vacuum Controller is in error state\")\n",
    "        self.send_request(\"Reset_Printer\\n\")\n",
    "        time.sleep(1)\n",
    "        while self.get_state() == VacuumControllerState.RUNNING and self.get_state() != VacuumControllerState.ERROR:\n",
    "            time.sleep(1)\n",
    "        if self.get_state() == VacuumControllerState.ERROR:\n",
    "            raise RuntimeError(\"Vacuum Controller is in error state\")\n",
    "        "
   ]
  },
  {
   "cell_type": "code",
   "execution_count": 9,
   "metadata": {},
   "outputs": [],
   "source": [
    "VC=VacuumController(ip_address=\"192.168.0.43\")"
   ]
  },
  {
   "cell_type": "code",
   "execution_count": 56,
   "metadata": {},
   "outputs": [
    {
     "data": {
      "text/plain": [
       "<VacuumControllerState.STOP: 'STOP'>"
      ]
     },
     "execution_count": 56,
     "metadata": {},
     "output_type": "execute_result"
    }
   ],
   "source": [
    "for i in range(50):\n",
    "    VC.on()\n",
    "    time.sleep(10)\n",
    "    VC.off()\n",
    "    time.sleep(3)\n",
    "    VC."
   ]
  },
  {
   "cell_type": "code",
   "execution_count": 42,
   "metadata": {},
   "outputs": [
    {
     "data": {
      "text/plain": [
       "'3D Printer >> RESET'"
      ]
     },
     "execution_count": 42,
     "metadata": {},
     "output_type": "execute_result"
    }
   ],
   "source": [
    "VC.send_request(\"Reset_Printer\\n\")"
   ]
  },
  {
   "cell_type": "code",
   "execution_count": 57,
   "metadata": {},
   "outputs": [
    {
     "data": {
      "text/plain": [
       "False"
      ]
     },
     "execution_count": 57,
     "metadata": {},
     "output_type": "execute_result"
    }
   ],
   "source": [
    "VC.is_on"
   ]
  },
  {
   "cell_type": "code",
   "execution_count": null,
   "metadata": {},
   "outputs": [],
   "source": []
  }
 ],
 "metadata": {
  "kernelspec": {
   "display_name": "py",
   "language": "python",
   "name": "python3"
  },
  "language_info": {
   "codemirror_mode": {
    "name": "ipython",
    "version": 3
   },
   "file_extension": ".py",
   "mimetype": "text/x-python",
   "name": "python",
   "nbconvert_exporter": "python",
   "pygments_lexer": "ipython3",
   "version": "3.9.7"
  },
  "orig_nbformat": 4
 },
 "nbformat": 4,
 "nbformat_minor": 2
}
