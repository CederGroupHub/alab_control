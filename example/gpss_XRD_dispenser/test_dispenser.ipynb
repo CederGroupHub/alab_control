{
 "cells": [
  {
   "cell_type": "code",
   "execution_count": 10,
   "metadata": {},
   "outputs": [
    {
     "name": "stdout",
     "output_type": "stream",
     "text": [
      "The autoreload extension is already loaded. To reload it, use:\n",
      "  %reload_ext autoreload\n"
     ]
    }
   ],
   "source": [
    "%load_ext autoreload\n",
    "%autoreload 2\n"
   ]
  },
  {
   "cell_type": "code",
   "execution_count": 11,
   "metadata": {},
   "outputs": [],
   "source": [
    "from alab_control.xrd_dispenser.xrd_dispenser import XRDPrepController, RotationMode\n",
    "\n",
    "xrd_dispenser = XRDPrepController(\n",
    "    gripper_port=\"/dev/tty.usbserial-BG005CHD\",\n",
    "    rail_port=\"/dev/tty.usbserial-BG004CS1\",\n",
    "    balance_ip=\"192.168.1.62\",\n",
    "    shaker_ip=\"192.168.1.58\",\n",
    ")\n",
    "xrd_dispenser.initialize()\n"
   ]
  },
  {
   "cell_type": "code",
   "execution_count": 5,
   "metadata": {},
   "outputs": [
    {
     "ename": "AttributeError",
     "evalue": "'XRDPrepController' object has no attribute 'gripping'",
     "output_type": "error",
     "traceback": [
      "\u001b[0;31m---------------------------------------------------------------------------\u001b[0m",
      "\u001b[0;31mAttributeError\u001b[0m                            Traceback (most recent call last)",
      "Cell \u001b[0;32mIn[5], line 2\u001b[0m\n\u001b[1;32m      1\u001b[0m xrd_dispenser\u001b[38;5;241m.\u001b[39mgripper\u001b[38;5;241m.\u001b[39minitialize(mode\u001b[38;5;241m=\u001b[39m\u001b[38;5;241m0xA5\u001b[39m)\n\u001b[0;32m----> 2\u001b[0m \u001b[43mxrd_dispenser\u001b[49m\u001b[38;5;241;43m.\u001b[39;49m\u001b[43mgripping\u001b[49m(\u001b[38;5;241m50\u001b[39m)\n\u001b[1;32m      3\u001b[0m xrd_dispenser\u001b[38;5;241m.\u001b[39mgripper\u001b[38;5;241m.\u001b[39mrotate(\u001b[38;5;241m90\u001b[39m, force\u001b[38;5;241m=\u001b[39m\u001b[38;5;241m20\u001b[39m, speed\u001b[38;5;241m=\u001b[39m\u001b[38;5;241m10\u001b[39m, check_gripper\u001b[38;5;241m=\u001b[39m\u001b[38;5;28;01mFalse\u001b[39;00m,mode\u001b[38;5;241m=\u001b[39mRotationMode\u001b[38;5;241m.\u001b[39mABSOLUTE)\n\u001b[1;32m      4\u001b[0m xrd_dispenser\u001b[38;5;241m.\u001b[39mgripper\u001b[38;5;241m.\u001b[39mcheck_initialization()\n",
      "\u001b[0;31mAttributeError\u001b[0m: 'XRDPrepController' object has no attribute 'gripping'"
     ]
    }
   ],
   "source": [
    "xrd_dispenser.gripper.initialize(mode=0xA5)\n",
    "xrd_dispenser.gripping(50)\n",
    "xrd_dispenser.gripper.rotate(90, force=20, speed=10, check_gripper=False,mode=RotationMode.ABSOLUTE)\n",
    "xrd_dispenser.gripper.check_initialization()"
   ]
  },
  {
   "cell_type": "code",
   "execution_count": 12,
   "metadata": {},
   "outputs": [
    {
     "name": "stdout",
     "output_type": "stream",
     "text": [
      "21084    mg\n",
      "21089    mg\n",
      "21089    mg\n",
      "21089    mg\n",
      "21089    mg\n",
      "21089    mg\n",
      "21089    mg\n",
      "21090    mg\n",
      "21090    mg\n",
      "21090    mg\n",
      "21090    mg\n",
      "21090    mg\n",
      "21090    mg\n",
      "21089    mg\n",
      "21090    mg\n",
      "21090    mg\n",
      "21090    mg\n",
      "21090    mg\n",
      "21090    mg\n",
      "21090    mg\n",
      "21090    mg\n",
      "21090    mg\n",
      "21090    mg\n",
      "21090    mg\n",
      "21090    mg\n",
      "21090    mg\n",
      "21090    mg\n",
      "21089    mg\n",
      "21089    mg\n",
      "21089    mg\n",
      "21089    mg\n",
      "21089    mg\n",
      "21089    mg\n",
      "21089    mg\n",
      "21089    mg\n",
      "21089    mg\n",
      "21089    mg\n",
      "21089    mg\n",
      "21084    mg\n"
     ]
    },
    {
     "data": {
      "text/plain": [
       "{'initial_mass': 21084,\n",
       " 'final_mass': 21084,\n",
       " 'target_mass': 100,\n",
       " 'mass_reached': False,\n",
       " 'remain_mass': 0}"
      ]
     },
     "execution_count": 12,
     "metadata": {},
     "output_type": "execute_result"
    }
   ],
   "source": [
    "xrd_dispenser.dispensing_powder(100)"
   ]
  },
  {
   "cell_type": "code",
   "execution_count": 8,
   "metadata": {},
   "outputs": [],
   "source": [
    "xrd_dispenser.move_rail_backward()"
   ]
  },
  {
   "cell_type": "code",
   "execution_count": 7,
   "metadata": {},
   "outputs": [],
   "source": [
    "xrd_dispenser.face_to_robot()\n",
    "\n"
   ]
  },
  {
   "cell_type": "code",
   "execution_count": 7,
   "metadata": {},
   "outputs": [],
   "source": [
    "xrd_dispenser.gripper.rotate(90, force=20, speed=10, check_gripper=False,mode=RotationMode.ABSOLUTE)\n",
    "xrd_dispenser.open_gripper()"
   ]
  },
  {
   "cell_type": "code",
   "execution_count": 29,
   "metadata": {},
   "outputs": [
    {
     "name": "stdout",
     "output_type": "stream",
     "text": [
      "20624    mg\n"
     ]
    },
    {
     "data": {
      "text/plain": [
       "20624"
      ]
     },
     "execution_count": 29,
     "metadata": {},
     "output_type": "execute_result"
    }
   ],
   "source": [
    "xrd_dispenser.balance.get_mass_in_mg(\"SP\")"
   ]
  },
  {
   "cell_type": "code",
   "execution_count": null,
   "metadata": {},
   "outputs": [],
   "source": []
  }
 ],
 "metadata": {
  "kernelspec": {
   "display_name": "alab_management",
   "language": "python",
   "name": "python3"
  },
  "language_info": {
   "codemirror_mode": {
    "name": "ipython",
    "version": 3
   },
   "file_extension": ".py",
   "mimetype": "text/x-python",
   "name": "python",
   "nbconvert_exporter": "python",
   "pygments_lexer": "ipython3",
   "version": "3.8.12"
  }
 },
 "nbformat": 4,
 "nbformat_minor": 2
}
